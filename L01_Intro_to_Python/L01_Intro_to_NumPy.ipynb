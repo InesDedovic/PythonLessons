{
 "cells": [
  {
   "cell_type": "code",
   "execution_count": 1,
   "metadata": {},
   "outputs": [],
   "source": [
    "# This is a comment.\n",
    "# Here all relevant libraries will be imported.\n",
    "# We sill import NumPy library and call it short 'np'\n",
    "\n",
    "import numpy as np\n",
    "# if we want to use some function from the NumPy library, we will start with np.{function_name}"
   ]
  },
  {
   "cell_type": "markdown",
   "metadata": {},
   "source": [
    "# Introduction to the NumPy library\n",
    "\n",
    "> To read more about NumPy, follow the link: https://numpy.org/\n",
    "\n",
    "## Notebook description tip...\n",
    "\n",
    "Description for the Notebook will be written in [Markdown](https://daringfireball.net/projects/markdown/).\n",
    "It is a markup language which allows us easily formatting and decorating of reports, writing equations inserting images and making the notebook easier to read \n",
    "\n",
    "> To learn the syntax, check https://www.markdownguide.org/cheat-sheet/"
   ]
  },
  {
   "cell_type": "markdown",
   "metadata": {},
   "source": [
    "## Basic operations with numbers\n",
    "### Simple exercise\n",
    "\n",
    "We will start with a simple exercise.\n",
    "\n",
    "1. Assigning a value to a variable: $a = 5$"
   ]
  },
  {
   "cell_type": "code",
   "execution_count": 2,
   "metadata": {},
   "outputs": [
    {
     "data": {
      "text/plain": [
       "5"
      ]
     },
     "execution_count": 2,
     "metadata": {},
     "output_type": "execute_result"
    }
   ],
   "source": [
    "a = 5 \n",
    "# if we write as a last line just the name of variable, we will receive its value as Out result\n",
    "a"
   ]
  },
  {
   "cell_type": "markdown",
   "metadata": {},
   "source": [
    "**It is important in which order you execute cells!**\n",
    "\n",
    "Try running just the following cell multiple times and see how the value of a changes after each run."
   ]
  },
  {
   "cell_type": "code",
   "execution_count": 3,
   "metadata": {},
   "outputs": [
    {
     "name": "stdout",
     "output_type": "stream",
     "text": [
      "a = 7\n"
     ]
    }
   ],
   "source": [
    "a = a + 2\n",
    "\n",
    "print(\"a = {}\".format(a))"
   ]
  },
  {
   "cell_type": "markdown",
   "metadata": {},
   "source": [
    "> This feature is usefull while trying out code, in a case you are not sure which sequence is the best one to use.\n",
    "However, after the test, make sure to check where are variables initialized.\n",
    "Also, try running the whole notebook from start to finish before exiting your work to make sure all lines are present and weren't deleted by a mistake"
   ]
  },
  {
   "cell_type": "markdown",
   "metadata": {},
   "source": [
    "2. Addition, subtraction, multiplication, division: $b = \\frac{((1 + 3) - 2) \\cdot{3}}{6}$"
   ]
  },
  {
   "cell_type": "code",
   "execution_count": 4,
   "metadata": {},
   "outputs": [
    {
     "name": "stdout",
     "output_type": "stream",
     "text": [
      "1.0\n"
     ]
    }
   ],
   "source": [
    "b = ((1 + 3) - 2) * 3 / 6\n",
    "\n",
    "# we will display b using the print commmand\n",
    "print(b)"
   ]
  },
  {
   "cell_type": "markdown",
   "metadata": {},
   "source": [
    "3. Exponent and root: $d = 2^3$; $e = \\sqrt{49}$"
   ]
  },
  {
   "cell_type": "code",
   "execution_count": 5,
   "metadata": {
    "scrolled": true
   },
   "outputs": [
    {
     "name": "stdout",
     "output_type": "stream",
     "text": [
      "Results are: d = 8; e = 7.0\n"
     ]
    }
   ],
   "source": [
    "d = 2 ** 3\n",
    "e = 49 ** (1/2)\n",
    "\n",
    "# we will now combine both text and values\n",
    "# for such purpose, we use {} brackets and .format function\n",
    "\n",
    "print('Results are: d = {}; e = {}'.format(d,e))"
   ]
  },
  {
   "cell_type": "markdown",
   "metadata": {},
   "source": [
    "### Challenge\n",
    "\n",
    "*Try now implementing following equations:*\n",
    "\n",
    "1. Assigning a value to a variable: $a = 5$\n",
    "2. Using a variable in a calculation of another variable: $b = 3 + a\\cdot{2} - 1$\n",
    "3. Multiplication, division, addition, subtraction: $c = \\frac{3\\cdot{a}}{1+2-b}$\n",
    "4. Exponent: $d = a^3 + 2^2$\n",
    "5. Root: $e = \\sqrt[3]{b}$"
   ]
  },
  {
   "cell_type": "code",
   "execution_count": 6,
   "metadata": {},
   "outputs": [
    {
     "name": "stdout",
     "output_type": "stream",
     "text": [
      "Results are:\n",
      "a = 5\n",
      "b = 12\n",
      "c = -1.6666666666666667\n",
      "d = 129\n",
      "e = 2.2894284851066637\n"
     ]
    }
   ],
   "source": [
    "a = 5\n",
    "b = 3 + 2*a - 1\n",
    "c = 3*a/(1+2-b)\n",
    "d = a**3 + 2**2\n",
    "e = b**(1/3)\n",
    "\n",
    "# to display results we can create a text and print it out using the print command\n",
    "# n means break a line\n",
    "# the numbers in {} brackets are ordinal numbers of variables in the .format() command\n",
    "# the numbering in python starts from 0\n",
    "    \n",
    "txt = 'Results are:\\n'\\\n",
    "    'a = {0}\\n'\\\n",
    "    'b = {1}\\n'\\\n",
    "    'c = {2}\\n'\\\n",
    "    'd = {3}\\n'\\\n",
    "    'e = {4}'.format(a,b,c,d,e)\n",
    "print(txt)"
   ]
  },
  {
   "cell_type": "markdown",
   "metadata": {},
   "source": [
    "> Usually, we do not want to show many digits of a decimal number, but want to limit ourselves to 2-4 after the decimal point. To display a variable in such a way, we will use the following formatting."
   ]
  },
  {
   "cell_type": "code",
   "execution_count": 7,
   "metadata": {},
   "outputs": [
    {
     "name": "stdout",
     "output_type": "stream",
     "text": [
      "e = 2.29\n"
     ]
    }
   ],
   "source": [
    "# if you paid attention, you could have noticed that, to write text, you can use either '' or \"\".\n",
    "# In the formatting below, {0:.2f}\n",
    "# ---------------------------------------------\n",
    "# - 0 is the ordinal number of the variable (counting in Python starts with 0)\n",
    "# - 2 means that we will limit the display to 2 digits after the decimal point\n",
    "\n",
    "print('e = {0:.2f}'.format(e))"
   ]
  },
  {
   "cell_type": "markdown",
   "metadata": {},
   "source": [
    "## Arrays\n",
    "\n",
    "### Creating the first array\n",
    "\n",
    "- Let $A$ and $B$ be arrays of length 5. \n",
    "- Display: $C = A + B$\n",
    "\n",
    "**Be carefull while using lists!!!!**\n",
    "- Lists and np.arrays look alike and have many similar features\n",
    "- However, in cases like below, you might get a result you didn't desire"
   ]
  },
  {
   "cell_type": "code",
   "execution_count": 8,
   "metadata": {},
   "outputs": [
    {
     "name": "stdout",
     "output_type": "stream",
     "text": [
      "[8, 6, 0, 1, 3, 1, 2, 7, -5, 2]\n"
     ]
    }
   ],
   "source": [
    "# watch out!!! This code will produce false results \n",
    "# A and B are recognized as lists and + as concating operator between lists\n",
    "\n",
    "A = [8, 6, 0, 1, 3]\n",
    "B = [1, 2, 7, -5, 2]\n",
    "C = A + B\n",
    "print(C)"
   ]
  },
  {
   "cell_type": "code",
   "execution_count": 9,
   "metadata": {},
   "outputs": [
    {
     "name": "stdout",
     "output_type": "stream",
     "text": [
      "[ 9  8  7 -4  5]\n"
     ]
    }
   ],
   "source": [
    "# instead, use np.array\n",
    "\n",
    "A = np.array([8, 6, 0, 1, 3])\n",
    "B = np.array([1, 2, 7, -5, 2])\n",
    "C = A + B\n",
    "print(C)"
   ]
  },
  {
   "cell_type": "markdown",
   "metadata": {},
   "source": [
    "### Important functions that produce arrays - Input: shape\n",
    "\n",
    "- **_np.ones(shape)_** - Return a new array of given shape and type, filled with ones.\n",
    "- **_np.zeros(shape)_** - Return a new array of given shape and type, filled with zeros.\n",
    "- **_np.random.rand(shape)_** - Random sampling: returns a random value from interval (0,1)\n",
    "- **_np.arange(start, stop, step)_** - Return evenly spaced values within a given interval.\n",
    "\n",
    "> Try uncommenting the lines of code below"
   ]
  },
  {
   "cell_type": "code",
   "execution_count": 10,
   "metadata": {},
   "outputs": [
    {
     "name": "stdout",
     "output_type": "stream",
     "text": [
      "[1. 1. 1. 1. 1. 1. 1. 1. 1. 1. 1. 1. 1. 1. 1. 1. 1. 1. 1. 1.]\n"
     ]
    }
   ],
   "source": [
    "A = np.ones(20)\n",
    "#A = np.zeros(20)\n",
    "#A= np.random.rand(20)\n",
    "#A = np.arange(0, 100, 2)\n",
    "\n",
    "print(A)"
   ]
  },
  {
   "cell_type": "markdown",
   "metadata": {},
   "source": [
    "### Trigonomeric functions and how to plot them\n",
    "\n",
    "Trigonometric functions work on scalars as well as on arrays.\n",
    "The function\n",
    "\n",
    "        np.sin(array_angle_in_radians) \n",
    "\n",
    "gives an array of sinus calulations of each element of an array. To demonstate its use, we will first calculate just:\n",
    "\n",
    "        sin(30°)\n",
    "        \n",
    "As the function requieres the angle in radians as input, we will convert degrees to radians by multiplying the angle with $\\frac{\\pi}{180}$\n"
   ]
  },
  {
   "cell_type": "code",
   "execution_count": 11,
   "metadata": {},
   "outputs": [
    {
     "data": {
      "text/plain": [
       "0.49999999999999994"
      ]
     },
     "execution_count": 11,
     "metadata": {},
     "output_type": "execute_result"
    }
   ],
   "source": [
    "a = np.sin(30 * np.pi/180)\n",
    "a"
   ]
  },
  {
   "cell_type": "markdown",
   "metadata": {},
   "source": [
    "We will now calculate sinus of all elements in an array.\n",
    "\n",
    "First, let us prepare an array. We will use sequence of evenly spaced numbers from 0° to 360° with a step of 10°. "
   ]
  },
  {
   "cell_type": "code",
   "execution_count": 12,
   "metadata": {},
   "outputs": [
    {
     "data": {
      "text/plain": [
       "array([  0,  10,  20,  30,  40,  50,  60,  70,  80,  90, 100, 110, 120,\n",
       "       130, 140, 150, 160, 170, 180, 190, 200, 210, 220, 230, 240, 250,\n",
       "       260, 270, 280, 290, 300, 310, 320, 330, 340, 350])"
      ]
     },
     "execution_count": 12,
     "metadata": {},
     "output_type": "execute_result"
    }
   ],
   "source": [
    "A = np.arange(0,360,10)\n",
    "A"
   ]
  },
  {
   "cell_type": "markdown",
   "metadata": {},
   "source": [
    "Now, we will calculate sinus of all elements of the array:"
   ]
  },
  {
   "cell_type": "code",
   "execution_count": 13,
   "metadata": {},
   "outputs": [
    {
     "data": {
      "text/plain": [
       "array([ 0.00000000e+00,  1.73648178e-01,  3.42020143e-01,  5.00000000e-01,\n",
       "        6.42787610e-01,  7.66044443e-01,  8.66025404e-01,  9.39692621e-01,\n",
       "        9.84807753e-01,  1.00000000e+00,  9.84807753e-01,  9.39692621e-01,\n",
       "        8.66025404e-01,  7.66044443e-01,  6.42787610e-01,  5.00000000e-01,\n",
       "        3.42020143e-01,  1.73648178e-01,  1.22464680e-16, -1.73648178e-01,\n",
       "       -3.42020143e-01, -5.00000000e-01, -6.42787610e-01, -7.66044443e-01,\n",
       "       -8.66025404e-01, -9.39692621e-01, -9.84807753e-01, -1.00000000e+00,\n",
       "       -9.84807753e-01, -9.39692621e-01, -8.66025404e-01, -7.66044443e-01,\n",
       "       -6.42787610e-01, -5.00000000e-01, -3.42020143e-01, -1.73648178e-01])"
      ]
     },
     "execution_count": 13,
     "metadata": {},
     "output_type": "execute_result"
    }
   ],
   "source": [
    "B = np.sin(A * np.pi/180)\n",
    "B"
   ]
  },
  {
   "cell_type": "markdown",
   "metadata": {},
   "source": [
    "Well... To understand if we got a good result, we will try to plot it.\n",
    "\n",
    "### Plotting arrays\n",
    "\n",
    "To plot results, we will use the library **Matplotlib**.\n",
    "For more details about the library, check the link: https://matplotlib.org/\n",
    "\n",
    "We will use array A as x-axis and array B as y-axis"
   ]
  },
  {
   "cell_type": "code",
   "execution_count": 14,
   "metadata": {},
   "outputs": [
    {
     "data": {
      "text/plain": [
       "<matplotlib.lines.Line2D at 0x247fd0870a0>"
      ]
     },
     "execution_count": 14,
     "metadata": {},
     "output_type": "execute_result"
    },
    {
     "data": {
      "image/png": "[encoded data removed]",
      "text/plain": [
       "<Figure size 432x288 with 1 Axes>"
      ]
     },
     "metadata": {
      "needs_background": "light"
     },
     "output_type": "display_data"
    }
   ],
   "source": [
    "import matplotlib.pyplot as plt\n",
    "\n",
    "plt.plot(A,B)\n",
    "plt.title('sin(A)')\n",
    "\n",
    "#you can add a horizontal line to mark zero, min, max, mean...\n",
    "plt.axhline(0, color='orange')"
   ]
  },
  {
   "cell_type": "markdown",
   "metadata": {},
   "source": [
    "> **Homework:**<br>\n",
    "> Tryout plotting the array C = np.abs(B)<br>\n",
    "> What does this code do?"
   ]
  },
  {
   "cell_type": "markdown",
   "metadata": {},
   "source": [
    "### Important functions that produce scalars - Homework\n",
    "\n",
    "> Try to find out what are these functions for:<br>\n",
    "> np.sum(array), np.mean(array), np.max(array), np.min(array), np.std(array)"
   ]
  },
  {
   "cell_type": "code",
   "execution_count": 15,
   "metadata": {},
   "outputs": [
    {
     "data": {
      "text/plain": [
       "<matplotlib.lines.Line2D at 0x247fd0ff730>"
      ]
     },
     "execution_count": 15,
     "metadata": {},
     "output_type": "execute_result"
    },
    {
     "data": {
      "image/png": "[encoded data removed]",
      "text/plain": [
       "<Figure size 432x288 with 1 Axes>"
      ]
     },
     "metadata": {
      "needs_background": "light"
     },
     "output_type": "display_data"
    }
   ],
   "source": [
    "#try the exercise on the following array\n",
    "B = np.random.rand(20) - 0.5\n",
    "\n",
    "b = np.mean(B)\n",
    "\n",
    "# example of plotting\n",
    "# if x-axis is not important, you can leave it out ->\n",
    "# in such a case, x is ordinal number of an element in the array\n",
    "\n",
    "plt.plot(B) \n",
    "plt.axhline(b, color='orange')"
   ]
  },
  {
   "cell_type": "code",
   "execution_count": null,
   "metadata": {},
   "outputs": [],
   "source": []
  }
 ],
 "metadata": {
  "kernelspec": {
   "display_name": "Python 3",
   "language": "python",
   "name": "python3"
  },
  "language_info": {
   "codemirror_mode": {
    "name": "ipython",
    "version": 3
   },
   "file_extension": ".py",
   "mimetype": "text/x-python",
   "name": "python",
   "nbconvert_exporter": "python",
   "pygments_lexer": "ipython3",
   "version": "3.8.3"
  }
 },
 "nbformat": 4,
 "nbformat_minor": 4
}
